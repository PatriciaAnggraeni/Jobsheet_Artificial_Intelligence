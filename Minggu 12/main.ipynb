{
  "nbformat": 4,
  "nbformat_minor": 0,
  "metadata": {
    "colab": {
      "provenance": [],
      "authorship_tag": "ABX9TyOUTejVd/U57zc3vgLfGZg5",
      "include_colab_link": true
    },
    "kernelspec": {
      "name": "python3",
      "display_name": "Python 3"
    },
    "language_info": {
      "name": "python"
    }
  },
  "cells": [
    {
      "cell_type": "markdown",
      "metadata": {
        "id": "view-in-github",
        "colab_type": "text"
      },
      "source": [
        "<a href=\"https://colab.research.google.com/github/PatriciaAnggraeni/Jobsheet_Artificial_Intelligence/blob/main/main.ipynb\" target=\"_parent\"><img src=\"https://colab.research.google.com/assets/colab-badge.svg\" alt=\"Open In Colab\"/></a>"
      ]
    },
    {
      "cell_type": "code",
      "execution_count": 1,
      "metadata": {
        "colab": {
          "base_uri": "https://localhost:8080/"
        },
        "id": "fV8U79wGDYPb",
        "outputId": "a87f0f78-3d64-4d6a-a7ec-e8091556ed13"
      },
      "outputs": [
        {
          "output_type": "stream",
          "name": "stdout",
          "text": [
            "1.2638091738835462\n"
          ]
        }
      ],
      "source": [
        "# 1. Pada percobaan yang menerapkan decision tree dengan bahasa python ini, \n",
        "# mula-mula kita mengimport library yang digunakan:\n",
        "from numpy import log2 as log\n",
        "import numpy as np\n",
        "import pandas as pd\n",
        "eps = np.finfo(float).eps\n",
        "\n",
        "# 2. Setelah itu kita Mendefinisikan dataset yang akan digunakan:\n",
        "outlook = 'overcast, overcast, overcast, overcast, rainy, rainy, rainy, rainy, rainy, sunny, sunny, sunny, sunny, sunny'.split(',')\n",
        "temp = 'hot, cool, mild, hot, mild, cool, cool, mild, mild, hot, hot, mild, cool, mild'.split(',')\n",
        "humidity = 'high, normal, high, normal, high, normal, normal, normal, high, high, high, high, normal, normal'.split(',')\n",
        "windy = 'FALSE, TRUE, TRUE, FALSE, FALSE, FALSE, TRUE, FALSE, TRUE, FALSE, TRUE, FALSE, FALSE, TRUE'.split(',')\n",
        "play = 'yes, yes, yes, yes, yes, yes, no, yes, no, no, no, no, yes, yes'.split(',')\n",
        "\n",
        "# 3. Membuat dataframe\n",
        "dataset = {'outlook':outlook, 'temp':temp,'humidity':humidity, 'windy':windy, 'play':play}\n",
        "df = pd.DataFrame(dataset, columns = ['outlook', 'temp', 'humidity', 'windy', 'play'])\n",
        "\n",
        "entropy_node = 0\n",
        "values = df.play.unique()\n",
        "for value in values:\n",
        "    fraction = df.play.value_counts()[value] / len(df.play)\n",
        "    entropy_node += -fraction * np.log2(fraction)\n",
        "\n",
        "print(entropy_node);"
      ]
    },
    {
      "cell_type": "code",
      "source": [
        "# 1. Pada percobaan yang menerapkan decision tree dengan bahasa python ini, mula-mula kita mengimport library yang digunakan:\n",
        "from numpy import log2 as log\n",
        "import numpy as np\n",
        "import pandas as pd\n",
        "eps = np.finfo(float).eps\n",
        "\n",
        "# 2. Setelah itu kita Mendefinisikan dataset yang akan digunakan:\n",
        "outlook = 'overcast, overcast, overcast, overcast, rainy, rainy, rainy, rainy, rainy, sunny, sunny, sunny, sunny, sunny'.split(',')\n",
        "temp = 'hot, cool, mild, hot, mild, cool, cool, mild, mild, hot, hot, mild, cool, mild'.split(\n",
        "',')\n",
        "humidity = 'high, normal, high, normal, high, normal, normal, normal, high, high, high, high, normal, normal'.split(',')\n",
        "windy = 'FALSE, TRUE, TRUE, FALSE, FALSE, FALSE, TRUE, FALSE, TRUE, FALSE, TRUE, FALSE, FALSE, TRUE'.split(',')\n",
        "play = 'yes, yes, yes, yes, yes, yes, no, yes, no, no, no, no, yes, yes'.split(',')\n",
        "\n",
        "# 3. Membuat dataframe\n",
        "dataset = {'outlook': outlook, 'temp': temp,'humidity': humidity, 'windy': windy, 'play': play}\n",
        "df = pd.DataFrame(dataset, columns = ['outlook', 'temp', 'humidity', 'windy', 'play'])\n",
        "\n",
        "def ent(df, attribute):\n",
        "    target_variables = df.play.unique()\n",
        "    variables = df[attribute].unique()\n",
        "\n",
        "    entropy_attribute = 0\n",
        "    for variable in variables:\n",
        "        entropy_each_feature = 0\n",
        "        for target_variable in target_variables:\n",
        "            num = len(df[attribute][df[attribute] == variable]\n",
        "                      [df.play == target_variable])\n",
        "            den = len(df[attribute][df[attribute] == variable])\n",
        "\n",
        "            fraction = num / (den + eps)\n",
        "            entropy_each_feature += -fraction * log(fraction+eps)\n",
        "\n",
        "        fraction2 = den / len(df)\n",
        "        entropy_attribute += -fraction2 * entropy_each_feature\n",
        "\n",
        "    return (abs(entropy_attribute))\n",
        "\n",
        "a_entropy = {k: ent(df, k) for k in df.keys()[:-1]}\n",
        "print(a_entropy);\n",
        "\n"
      ],
      "metadata": {
        "colab": {
          "base_uri": "https://localhost:8080/"
        },
        "id": "4B4pHsUgDaPu",
        "outputId": "2e9af648-30e0-4d40-9e3a-093f862148d4"
      },
      "execution_count": 2,
      "outputs": [
        {
          "output_type": "stream",
          "name": "stdout",
          "text": [
            "{'outlook': 0.6935361388961914, 'temp': 0.822126786023352, 'humidity': 0.6893917467430872, 'windy': 0.8601317128547434}\n"
          ]
        }
      ]
    },
    {
      "cell_type": "code",
      "source": [
        "# 1. Pada percobaan yang menerapkan decision tree dengan bahasa python ini, mula-mula kita mengimport library yang digunakan:\n",
        "from numpy import log2 as log\n",
        "import numpy as np\n",
        "import pandas as pd\n",
        "eps = np.finfo(float).eps\n",
        "\n",
        "# 2. Setelah itu kita Mendefinisikan dataset yang akan digunakan:\n",
        "outlook = 'overcast, overcast, overcast, overcast, rainy, rainy, rainy, rainy, rainy, sunny, sunny, sunny, sunny, sunny'.split(',')\n",
        "temp = 'hot, cool, mild, hot, mild, cool, cool, mild, mild, hot, hot, mild, cool, mild'.split(',')\n",
        "humidity = 'high, normal, high, normal, high, normal, normal, normal, high, high, high, high, normal, normal'.split(',')\n",
        "windy = 'FALSE, TRUE, TRUE, FALSE, FALSE, FALSE, TRUE, FALSE, TRUE, FALSE, TRUE, FALSE, FALSE, TRUE'.split(',')\n",
        "play = 'yes, yes, yes, yes, yes, yes, no, yes, no, no, no, no, yes, yes'.split(',')\n",
        "\n",
        "# 3. Membuat dataframe\n",
        "dataset = {'outlook': outlook, 'temp': temp, 'humidity': humidity, 'windy': windy, 'play': play}\n",
        "df = pd.DataFrame(dataset, columns = ['outlook', 'temp', 'humidity', 'windy', 'play'])\n",
        "\n",
        "entropy_node = 0\n",
        "values = df.play.unique()\n",
        "for value in values:\n",
        "    fraction = df.play.value_counts()[value] / len(df.play)\n",
        "    entropy_node += -fraction * np.log2(fraction)\n",
        "\n",
        "\n",
        "def ent(df, attribute):\n",
        "    target_variables = df.play.unique()\n",
        "    variables = df[attribute].unique()\n",
        "\n",
        "    entropy_attribute = 0\n",
        "    for variable in variables:\n",
        "        entropy_each_feature = 0\n",
        "        for target_variable in target_variables:\n",
        "            num = len(df[attribute][df[attribute] == variable]\n",
        "                      [df.play == target_variable])\n",
        "            den = len(df[attribute][df[attribute] == variable])\n",
        "\n",
        "            fraction = num / (den + eps)\n",
        "            entropy_each_feature += -fraction * log(fraction+eps)\n",
        "\n",
        "        fraction2 = den / len(df)\n",
        "        entropy_attribute += -fraction2 * entropy_each_feature\n",
        "\n",
        "    return (abs(entropy_attribute))\n",
        "\n",
        "\n",
        "def ig(e_dataset, e_attr):\n",
        "    return (e_dataset - e_attr)\n",
        "\n",
        "\n",
        "a_entropy = {k: ent(df, k) for k in df.keys()[:-1]}\n",
        "IG = {k:ig(entropy_node, a_entropy[k]) for k in a_entropy}\n",
        "print(IG)"
      ],
      "metadata": {
        "colab": {
          "base_uri": "https://localhost:8080/"
        },
        "id": "4TF2XN3UDcci",
        "outputId": "a479a33a-7476-4ff0-e053-039e6920beed"
      },
      "execution_count": 3,
      "outputs": [
        {
          "output_type": "stream",
          "name": "stdout",
          "text": [
            "{'outlook': 0.5702730349873548, 'temp': 0.4416823878601942, 'humidity': 0.574417427140459, 'windy': 0.40367746102880275}\n"
          ]
        }
      ]
    },
    {
      "cell_type": "code",
      "source": [
        "# 1. Pada percobaan yang menerapkan decision tree dengan bahasa python ini, mula-mula kita mengimport library yang digunakan:\n",
        "import pprint\n",
        "import numpy as np\n",
        "import pandas as pd\n",
        "eps = np.finfo(float).eps\n",
        "from numpy import log2 as log\n",
        "\n",
        "# 2. Setelah itu kita Mendefinisikan dataset yang akan digunakan:\n",
        "outlook = 'overcast, overcast, overcast, overcast, rainy, rainy, rainy, rainy, rainy, sunny, sunny, sunny, sunny, sunny'.split(',')\n",
        "temp = 'hot, cool, mild, hot, mild, cool, cool, mild, mild, hot, hot, mild, cool, mild'.split(',')\n",
        "humidity = 'high, normal, high, normal, high, normal, normal, normal, high, high, high, high, normal, normal'.split(',')\n",
        "windy = 'FALSE, TRUE, TRUE, FALSE, FALSE, FALSE, TRUE, FALSE, TRUE, FALSE, TRUE, FALSE, FALSE, TRUE'.split(',')\n",
        "play = 'yes, yes, yes, yes, yes, yes, no, yes, no, no, no, no, yes, yes'.split(',')\n",
        "\n",
        "# 3. Membuat dataframe\n",
        "dataset = {'outlook': outlook, 'temp': temp,'humidity': humidity, 'windy': windy, 'play': play}\n",
        "df = pd.DataFrame(dataset, columns = ['outlook', 'temp', 'humidity', 'windy', 'play'])\n",
        "\n",
        "def find_entropy(df):\n",
        "    Class = df.keys()[-1]\n",
        "    entropy = 0\n",
        "    values = df[Class].unique()\n",
        "    for value in values:\n",
        "        fraction = df[Class].value_counts()[value] / len(df[Class])\n",
        "        entropy == -fraction * np.log2(fraction)\n",
        "\n",
        "    return entropy\n",
        "\n",
        "def find_entropy_atribute(df, attribute):\n",
        "    Class = df.keys()[-1]\n",
        "    target_variables = df[Class].unique()\n",
        "    variables = df[attribute].unique()\n",
        "    entropy2 = 0\n",
        "\n",
        "    for variable in variables:\n",
        "        entropy = 0\n",
        "        for target_variable in target_variables:\n",
        "            num = len(df[attribute][df[attribute] == variable][df[Class] == target_variable])\n",
        "            den = len(df[attribute][df[attribute] == variable])\n",
        "            fraction = num / (den+eps)\n",
        "            entropy += -fraction * log(fraction+eps)\n",
        "    \n",
        "        fraction2 = den / len(df)\n",
        "        entropy2 += -fraction2 * entropy\n",
        "\n",
        "    return abs(entropy)\n",
        "\n",
        "def find_winner(df):\n",
        "    Entropy_att = []\n",
        "    IG = []\n",
        "    for key in df.keys()[:-1]:\n",
        "        IG.append(find_entropy(df) - find_entropy_atribute(df, key))\n",
        "    return df.keys()[:-1][np.argmax(IG)]\n",
        "\n",
        "def get_sutable(df, node, value):\n",
        "    return df[df[node] == value].reset_index(drop=True)\n",
        "\n",
        "def buildTree(df, tree=None):\n",
        "    Class = df.keys()[-1]\n",
        "    node = find_winner(df)\n",
        "    attValue = np.unique(df[node])\n",
        "\n",
        "    if tree is None:\n",
        "        tree = {}\n",
        "        tree[node] = {}\n",
        "\n",
        "    for value in attValue:\n",
        "\n",
        "        sutable = get_sutable(df, node, value)\n",
        "        clValue, counts = np.unique(sutable[Class], return_counts=True)\n",
        "\n",
        "        if len(counts) == 1:\n",
        "            tree[node][value] = clValue[0]\n",
        "        else:\n",
        "            tree[node][value] = buildTree(sutable)\n",
        "    \n",
        "    return tree\n",
        "\n",
        "t = buildTree(df)\n",
        "pprint.pprint(t)"
      ],
      "metadata": {
        "colab": {
          "base_uri": "https://localhost:8080/"
        },
        "id": "eqndl7yVDe7H",
        "outputId": "bcf76ffa-0d30-49d0-8d67-243c5ff79d78"
      },
      "execution_count": 4,
      "outputs": [
        {
          "output_type": "stream",
          "name": "stdout",
          "text": [
            "{'windy': {' FALSE': {'temp': {' cool': ' yes',\n",
            "                               ' hot': {'outlook': {' overcast': ' yes',\n",
            "                                                    ' sunny': ' no'}},\n",
            "                               ' mild': {'outlook': {' rainy': ' yes',\n",
            "                                                     ' sunny': ' no'}}}},\n",
            "           ' TRUE': {'temp': {' cool': {'outlook': {' overcast': ' yes',\n",
            "                                                    ' rainy': ' no'}},\n",
            "                              ' hot': ' no',\n",
            "                              ' mild': {'outlook': {' overcast': ' yes',\n",
            "                                                    ' rainy': ' no',\n",
            "                                                    ' sunny': ' yes'}}}},\n",
            "           'FALSE': 'yes'}}\n"
          ]
        }
      ]
    }
  ]
}